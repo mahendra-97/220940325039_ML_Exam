{
  "cells": [
    {
      "attachments": {},
      "cell_type": "markdown",
      "metadata": {},
      "source": [
        "Problem Statement 2: For Question2 either use read_csv if file is csv ....if file is excel then use read_excel\\\n",
        "Chandrashekhar wants to purchase office-space. He does a detailed survey of the offices and corporate complexes in the area, and tries to quantify a lot of factors, such as the distance of the offices from residential and other commercial areas, schools and workplaces; the reputation of the construction companies and builders involved in constructing the apartments; the distance of the offices from highways, freeways and important roads; the facilities around the office space and so on.\\\n",
        "Each of these factors are quantified, normalized and mapped to values on a scale of 0 to 1. Chandrashekhar then makes a table. Each row in the table corresponds to Chandrashekhar Observations for a particular house. If Chandrashekhar has observed and noted F features, the row contains F values separated by a single space, followed by the office-space price in dollars/square-foot. If Chandrashekhar makes observations for H houses, his observation table has (F+1) columns and H rows, and a total of (F+1) * H entries.\\\n",
        "Chandrashekhar does several such surveys and provides you with the tabulated data. At the end of these tables are some rows which have just F columns (the price per square foot is missing). Your task is to predict these prices. F can be any integer number between 1 and 5, both inclusive.\\\n",
        "There is one important observation which Chandrashekhar has made.\\\n",
        "The prices per square foot, are (approximately) a polynomial function of the features in the observation table. This polynomial always has an order less than 4\n",
        "\n",
        "Input Format\\\n",
        "The first line contains two space separated integers, F and N. Over here, F is the number of observed features. N is the number of rows for which features as well as price per square-foot have been noted.\\\n",
        "This is followed by a table having F+1 columns and N rows with each row in a new line and each column separated by a single space. The last column is the price per square foot.\\\n",
        "The table is immediately followed by integer T followed by T rows containing F columns.\\\n",
        "Constraints\\\n",
        "1 <= F <= 5\\\n",
        "5 <= N <= 100\\\n",
        "1 <= T <= 100\\\n",
        "0 <= Price Per Square Foot <= 10^6 0 <= Factor Values <= 1\\\n",
        "Output Format\\\n"
      ]
    },
    {
      "cell_type": "code",
      "execution_count": 1,
      "metadata": {
        "id": "wbfuL9DOSmII"
      },
      "outputs": [],
      "source": [
        "import pandas as pd\n",
        "import numpy as np\n",
        "import seaborn as sns\n",
        "import matplotlib.pyplot as plt\n",
        "%matplotlib inline\n",
        "\n",
        "pd.options.display.max_columns=None"
      ]
    },
    {
      "cell_type": "code",
      "execution_count": 2,
      "metadata": {
        "colab": {
          "base_uri": "https://localhost:8080/"
        },
        "id": "n_r7bUdwSn0a",
        "outputId": "edf648fc-9c37-4d47-cc82-2cb71b523b64"
      },
      "outputs": [
        {
          "name": "stdout",
          "output_type": "stream",
          "text": [
            "Drive already mounted at /content/drive; to attempt to forcibly remount, call drive.mount(\"/content/drive\", force_remount=True).\n"
          ]
        }
      ],
      "source": [
        "from google.colab import drive\n",
        "drive.mount('/content/drive')"
      ]
    },
    {
      "cell_type": "code",
      "execution_count": 3,
      "metadata": {
        "id": "pWGqMCj9WAtV"
      },
      "outputs": [],
      "source": [
        "df=pd.read_excel(\"/content/drive/MyDrive/ML_test/data_final.xlsx\")"
      ]
    },
    {
      "cell_type": "code",
      "execution_count": 4,
      "metadata": {
        "colab": {
          "base_uri": "https://localhost:8080/",
          "height": 206
        },
        "id": "NIDz1mvnWMWZ",
        "outputId": "0af52d95-4b9d-430f-abf4-d901e3793b98"
      },
      "outputs": [
        {
          "data": {
            "text/html": [
              "\n",
              "  <div id=\"df-3e6fb129-65ac-4c89-84dd-9ea060e287ee\">\n",
              "    <div class=\"colab-df-container\">\n",
              "      <div>\n",
              "<style scoped>\n",
              "    .dataframe tbody tr th:only-of-type {\n",
              "        vertical-align: middle;\n",
              "    }\n",
              "\n",
              "    .dataframe tbody tr th {\n",
              "        vertical-align: top;\n",
              "    }\n",
              "\n",
              "    .dataframe thead th {\n",
              "        text-align: right;\n",
              "    }\n",
              "</style>\n",
              "<table border=\"1\" class=\"dataframe\">\n",
              "  <thead>\n",
              "    <tr style=\"text-align: right;\">\n",
              "      <th></th>\n",
              "      <th>0.44</th>\n",
              "      <th>0.68</th>\n",
              "      <th>511.14</th>\n",
              "    </tr>\n",
              "  </thead>\n",
              "  <tbody>\n",
              "    <tr>\n",
              "      <th>0</th>\n",
              "      <td>0.99</td>\n",
              "      <td>0.23</td>\n",
              "      <td>717.10</td>\n",
              "    </tr>\n",
              "    <tr>\n",
              "      <th>1</th>\n",
              "      <td>0.84</td>\n",
              "      <td>0.29</td>\n",
              "      <td>607.91</td>\n",
              "    </tr>\n",
              "    <tr>\n",
              "      <th>2</th>\n",
              "      <td>0.28</td>\n",
              "      <td>0.45</td>\n",
              "      <td>270.40</td>\n",
              "    </tr>\n",
              "    <tr>\n",
              "      <th>3</th>\n",
              "      <td>0.07</td>\n",
              "      <td>0.83</td>\n",
              "      <td>289.88</td>\n",
              "    </tr>\n",
              "    <tr>\n",
              "      <th>4</th>\n",
              "      <td>0.66</td>\n",
              "      <td>0.80</td>\n",
              "      <td>830.85</td>\n",
              "    </tr>\n",
              "  </tbody>\n",
              "</table>\n",
              "</div>\n",
              "      <button class=\"colab-df-convert\" onclick=\"convertToInteractive('df-3e6fb129-65ac-4c89-84dd-9ea060e287ee')\"\n",
              "              title=\"Convert this dataframe to an interactive table.\"\n",
              "              style=\"display:none;\">\n",
              "        \n",
              "  <svg xmlns=\"http://www.w3.org/2000/svg\" height=\"24px\"viewBox=\"0 0 24 24\"\n",
              "       width=\"24px\">\n",
              "    <path d=\"M0 0h24v24H0V0z\" fill=\"none\"/>\n",
              "    <path d=\"M18.56 5.44l.94 2.06.94-2.06 2.06-.94-2.06-.94-.94-2.06-.94 2.06-2.06.94zm-11 1L8.5 8.5l.94-2.06 2.06-.94-2.06-.94L8.5 2.5l-.94 2.06-2.06.94zm10 10l.94 2.06.94-2.06 2.06-.94-2.06-.94-.94-2.06-.94 2.06-2.06.94z\"/><path d=\"M17.41 7.96l-1.37-1.37c-.4-.4-.92-.59-1.43-.59-.52 0-1.04.2-1.43.59L10.3 9.45l-7.72 7.72c-.78.78-.78 2.05 0 2.83L4 21.41c.39.39.9.59 1.41.59.51 0 1.02-.2 1.41-.59l7.78-7.78 2.81-2.81c.8-.78.8-2.07 0-2.86zM5.41 20L4 18.59l7.72-7.72 1.47 1.35L5.41 20z\"/>\n",
              "  </svg>\n",
              "      </button>\n",
              "      \n",
              "  <style>\n",
              "    .colab-df-container {\n",
              "      display:flex;\n",
              "      flex-wrap:wrap;\n",
              "      gap: 12px;\n",
              "    }\n",
              "\n",
              "    .colab-df-convert {\n",
              "      background-color: #E8F0FE;\n",
              "      border: none;\n",
              "      border-radius: 50%;\n",
              "      cursor: pointer;\n",
              "      display: none;\n",
              "      fill: #1967D2;\n",
              "      height: 32px;\n",
              "      padding: 0 0 0 0;\n",
              "      width: 32px;\n",
              "    }\n",
              "\n",
              "    .colab-df-convert:hover {\n",
              "      background-color: #E2EBFA;\n",
              "      box-shadow: 0px 1px 2px rgba(60, 64, 67, 0.3), 0px 1px 3px 1px rgba(60, 64, 67, 0.15);\n",
              "      fill: #174EA6;\n",
              "    }\n",
              "\n",
              "    [theme=dark] .colab-df-convert {\n",
              "      background-color: #3B4455;\n",
              "      fill: #D2E3FC;\n",
              "    }\n",
              "\n",
              "    [theme=dark] .colab-df-convert:hover {\n",
              "      background-color: #434B5C;\n",
              "      box-shadow: 0px 1px 3px 1px rgba(0, 0, 0, 0.15);\n",
              "      filter: drop-shadow(0px 1px 2px rgba(0, 0, 0, 0.3));\n",
              "      fill: #FFFFFF;\n",
              "    }\n",
              "  </style>\n",
              "\n",
              "      <script>\n",
              "        const buttonEl =\n",
              "          document.querySelector('#df-3e6fb129-65ac-4c89-84dd-9ea060e287ee button.colab-df-convert');\n",
              "        buttonEl.style.display =\n",
              "          google.colab.kernel.accessAllowed ? 'block' : 'none';\n",
              "\n",
              "        async function convertToInteractive(key) {\n",
              "          const element = document.querySelector('#df-3e6fb129-65ac-4c89-84dd-9ea060e287ee');\n",
              "          const dataTable =\n",
              "            await google.colab.kernel.invokeFunction('convertToInteractive',\n",
              "                                                     [key], {});\n",
              "          if (!dataTable) return;\n",
              "\n",
              "          const docLinkHtml = 'Like what you see? Visit the ' +\n",
              "            '<a target=\"_blank\" href=https://colab.research.google.com/notebooks/data_table.ipynb>data table notebook</a>'\n",
              "            + ' to learn more about interactive tables.';\n",
              "          element.innerHTML = '';\n",
              "          dataTable['output_type'] = 'display_data';\n",
              "          await google.colab.output.renderOutput(dataTable, element);\n",
              "          const docLink = document.createElement('div');\n",
              "          docLink.innerHTML = docLinkHtml;\n",
              "          element.appendChild(docLink);\n",
              "        }\n",
              "      </script>\n",
              "    </div>\n",
              "  </div>\n",
              "  "
            ],
            "text/plain": [
              "   0.44    0.68    511.14\n",
              "0    0.99    0.23  717.10\n",
              "1    0.84    0.29  607.91\n",
              "2    0.28    0.45  270.40\n",
              "3    0.07    0.83  289.88\n",
              "4    0.66    0.80  830.85"
            ]
          },
          "execution_count": 4,
          "metadata": {},
          "output_type": "execute_result"
        }
      ],
      "source": [
        "df.head()"
      ]
    },
    {
      "cell_type": "code",
      "execution_count": 5,
      "metadata": {
        "colab": {
          "base_uri": "https://localhost:8080/"
        },
        "id": "wi259_IwSyC4",
        "outputId": "258c9cd1-2e1a-424e-b680-a1cce40a15ba"
      },
      "outputs": [
        {
          "data": {
            "text/plain": [
              "(99, 3)"
            ]
          },
          "execution_count": 5,
          "metadata": {},
          "output_type": "execute_result"
        }
      ],
      "source": [
        "df.shape"
      ]
    },
    {
      "cell_type": "code",
      "execution_count": 6,
      "metadata": {
        "colab": {
          "base_uri": "https://localhost:8080/",
          "height": 300
        },
        "id": "Z3zwcJTIWVkI",
        "outputId": "8b51f912-0940-4cea-9aa9-149c37dbf653"
      },
      "outputs": [
        {
          "data": {
            "text/html": [
              "\n",
              "  <div id=\"df-3a8a73a9-40c7-4e12-8004-58c19628f333\">\n",
              "    <div class=\"colab-df-container\">\n",
              "      <div>\n",
              "<style scoped>\n",
              "    .dataframe tbody tr th:only-of-type {\n",
              "        vertical-align: middle;\n",
              "    }\n",
              "\n",
              "    .dataframe tbody tr th {\n",
              "        vertical-align: top;\n",
              "    }\n",
              "\n",
              "    .dataframe thead th {\n",
              "        text-align: right;\n",
              "    }\n",
              "</style>\n",
              "<table border=\"1\" class=\"dataframe\">\n",
              "  <thead>\n",
              "    <tr style=\"text-align: right;\">\n",
              "      <th></th>\n",
              "      <th>0.44</th>\n",
              "      <th>0.68</th>\n",
              "      <th>511.14</th>\n",
              "    </tr>\n",
              "  </thead>\n",
              "  <tbody>\n",
              "    <tr>\n",
              "      <th>count</th>\n",
              "      <td>99.000000</td>\n",
              "      <td>99.000000</td>\n",
              "      <td>99.000000</td>\n",
              "    </tr>\n",
              "    <tr>\n",
              "      <th>mean</th>\n",
              "      <td>0.551414</td>\n",
              "      <td>0.499899</td>\n",
              "      <td>554.649697</td>\n",
              "    </tr>\n",
              "    <tr>\n",
              "      <th>std</th>\n",
              "      <td>0.295124</td>\n",
              "      <td>0.308156</td>\n",
              "      <td>349.052910</td>\n",
              "    </tr>\n",
              "    <tr>\n",
              "      <th>min</th>\n",
              "      <td>0.010000</td>\n",
              "      <td>0.000000</td>\n",
              "      <td>42.080000</td>\n",
              "    </tr>\n",
              "    <tr>\n",
              "      <th>25%</th>\n",
              "      <td>0.300000</td>\n",
              "      <td>0.230000</td>\n",
              "      <td>277.465000</td>\n",
              "    </tr>\n",
              "    <tr>\n",
              "      <th>50%</th>\n",
              "      <td>0.570000</td>\n",
              "      <td>0.480000</td>\n",
              "      <td>517.430000</td>\n",
              "    </tr>\n",
              "    <tr>\n",
              "      <th>75%</th>\n",
              "      <td>0.825000</td>\n",
              "      <td>0.760000</td>\n",
              "      <td>758.205000</td>\n",
              "    </tr>\n",
              "    <tr>\n",
              "      <th>max</th>\n",
              "      <td>1.000000</td>\n",
              "      <td>0.990000</td>\n",
              "      <td>1563.820000</td>\n",
              "    </tr>\n",
              "  </tbody>\n",
              "</table>\n",
              "</div>\n",
              "      <button class=\"colab-df-convert\" onclick=\"convertToInteractive('df-3a8a73a9-40c7-4e12-8004-58c19628f333')\"\n",
              "              title=\"Convert this dataframe to an interactive table.\"\n",
              "              style=\"display:none;\">\n",
              "        \n",
              "  <svg xmlns=\"http://www.w3.org/2000/svg\" height=\"24px\"viewBox=\"0 0 24 24\"\n",
              "       width=\"24px\">\n",
              "    <path d=\"M0 0h24v24H0V0z\" fill=\"none\"/>\n",
              "    <path d=\"M18.56 5.44l.94 2.06.94-2.06 2.06-.94-2.06-.94-.94-2.06-.94 2.06-2.06.94zm-11 1L8.5 8.5l.94-2.06 2.06-.94-2.06-.94L8.5 2.5l-.94 2.06-2.06.94zm10 10l.94 2.06.94-2.06 2.06-.94-2.06-.94-.94-2.06-.94 2.06-2.06.94z\"/><path d=\"M17.41 7.96l-1.37-1.37c-.4-.4-.92-.59-1.43-.59-.52 0-1.04.2-1.43.59L10.3 9.45l-7.72 7.72c-.78.78-.78 2.05 0 2.83L4 21.41c.39.39.9.59 1.41.59.51 0 1.02-.2 1.41-.59l7.78-7.78 2.81-2.81c.8-.78.8-2.07 0-2.86zM5.41 20L4 18.59l7.72-7.72 1.47 1.35L5.41 20z\"/>\n",
              "  </svg>\n",
              "      </button>\n",
              "      \n",
              "  <style>\n",
              "    .colab-df-container {\n",
              "      display:flex;\n",
              "      flex-wrap:wrap;\n",
              "      gap: 12px;\n",
              "    }\n",
              "\n",
              "    .colab-df-convert {\n",
              "      background-color: #E8F0FE;\n",
              "      border: none;\n",
              "      border-radius: 50%;\n",
              "      cursor: pointer;\n",
              "      display: none;\n",
              "      fill: #1967D2;\n",
              "      height: 32px;\n",
              "      padding: 0 0 0 0;\n",
              "      width: 32px;\n",
              "    }\n",
              "\n",
              "    .colab-df-convert:hover {\n",
              "      background-color: #E2EBFA;\n",
              "      box-shadow: 0px 1px 2px rgba(60, 64, 67, 0.3), 0px 1px 3px 1px rgba(60, 64, 67, 0.15);\n",
              "      fill: #174EA6;\n",
              "    }\n",
              "\n",
              "    [theme=dark] .colab-df-convert {\n",
              "      background-color: #3B4455;\n",
              "      fill: #D2E3FC;\n",
              "    }\n",
              "\n",
              "    [theme=dark] .colab-df-convert:hover {\n",
              "      background-color: #434B5C;\n",
              "      box-shadow: 0px 1px 3px 1px rgba(0, 0, 0, 0.15);\n",
              "      filter: drop-shadow(0px 1px 2px rgba(0, 0, 0, 0.3));\n",
              "      fill: #FFFFFF;\n",
              "    }\n",
              "  </style>\n",
              "\n",
              "      <script>\n",
              "        const buttonEl =\n",
              "          document.querySelector('#df-3a8a73a9-40c7-4e12-8004-58c19628f333 button.colab-df-convert');\n",
              "        buttonEl.style.display =\n",
              "          google.colab.kernel.accessAllowed ? 'block' : 'none';\n",
              "\n",
              "        async function convertToInteractive(key) {\n",
              "          const element = document.querySelector('#df-3a8a73a9-40c7-4e12-8004-58c19628f333');\n",
              "          const dataTable =\n",
              "            await google.colab.kernel.invokeFunction('convertToInteractive',\n",
              "                                                     [key], {});\n",
              "          if (!dataTable) return;\n",
              "\n",
              "          const docLinkHtml = 'Like what you see? Visit the ' +\n",
              "            '<a target=\"_blank\" href=https://colab.research.google.com/notebooks/data_table.ipynb>data table notebook</a>'\n",
              "            + ' to learn more about interactive tables.';\n",
              "          element.innerHTML = '';\n",
              "          dataTable['output_type'] = 'display_data';\n",
              "          await google.colab.output.renderOutput(dataTable, element);\n",
              "          const docLink = document.createElement('div');\n",
              "          docLink.innerHTML = docLinkHtml;\n",
              "          element.appendChild(docLink);\n",
              "        }\n",
              "      </script>\n",
              "    </div>\n",
              "  </div>\n",
              "  "
            ],
            "text/plain": [
              "          0.44       0.68         511.14\n",
              "count  99.000000  99.000000    99.000000\n",
              "mean    0.551414   0.499899   554.649697\n",
              "std     0.295124   0.308156   349.052910\n",
              "min     0.010000   0.000000    42.080000\n",
              "25%     0.300000   0.230000   277.465000\n",
              "50%     0.570000   0.480000   517.430000\n",
              "75%     0.825000   0.760000   758.205000\n",
              "max     1.000000   0.990000  1563.820000"
            ]
          },
          "execution_count": 6,
          "metadata": {},
          "output_type": "execute_result"
        }
      ],
      "source": [
        "df.describe()"
      ]
    },
    {
      "cell_type": "code",
      "execution_count": 7,
      "metadata": {
        "colab": {
          "base_uri": "https://localhost:8080/"
        },
        "id": "jyihP8CmWYt_",
        "outputId": "d322d694-2e0c-4540-b958-1e2ed6e9b5bf"
      },
      "outputs": [
        {
          "name": "stdout",
          "output_type": "stream",
          "text": [
            "<class 'pandas.core.frame.DataFrame'>\n",
            "RangeIndex: 99 entries, 0 to 98\n",
            "Data columns (total 3 columns):\n",
            " #   Column  Non-Null Count  Dtype  \n",
            "---  ------  --------------  -----  \n",
            " 0   0.44    99 non-null     float64\n",
            " 1   0.68    99 non-null     float64\n",
            " 2   511.14  99 non-null     float64\n",
            "dtypes: float64(3)\n",
            "memory usage: 2.4 KB\n"
          ]
        }
      ],
      "source": [
        "df.info()"
      ]
    },
    {
      "cell_type": "code",
      "execution_count": 9,
      "metadata": {
        "id": "NLgieAm3S1ND"
      },
      "outputs": [],
      "source": [
        "# Independent Variable\n",
        "x=df.iloc[:,:-1].values\n",
        "# Dependent vairable\n",
        "y=df.iloc[:,-1].values"
      ]
    },
    {
      "cell_type": "code",
      "execution_count": 10,
      "metadata": {
        "colab": {
          "base_uri": "https://localhost:8080/"
        },
        "id": "HUvhkghXTBR3",
        "outputId": "9d405839-4dbf-4399-a3bc-318b1805910f"
      },
      "outputs": [
        {
          "data": {
            "text/plain": [
              "(99, 2)"
            ]
          },
          "execution_count": 10,
          "metadata": {},
          "output_type": "execute_result"
        }
      ],
      "source": [
        "x.shape"
      ]
    },
    {
      "cell_type": "code",
      "execution_count": 22,
      "metadata": {
        "colab": {
          "base_uri": "https://localhost:8080/"
        },
        "id": "_6yehOcLTCH3",
        "outputId": "333b2553-2823-4956-c401-9f50eba4567b"
      },
      "outputs": [
        {
          "data": {
            "text/plain": [
              "array([[0.99, 0.23],\n",
              "       [0.84, 0.29],\n",
              "       [0.28, 0.45],\n",
              "       [0.07, 0.83],\n",
              "       [0.66, 0.8 ],\n",
              "       [0.73, 0.92],\n",
              "       [0.57, 0.43],\n",
              "       [0.43, 0.89],\n",
              "       [0.27, 0.95],\n",
              "       [0.43, 0.06],\n",
              "       [0.87, 0.91],\n",
              "       [0.78, 0.69],\n",
              "       [0.9 , 0.94],\n",
              "       [0.41, 0.06],\n",
              "       [0.52, 0.17],\n",
              "       [0.47, 0.66],\n",
              "       [0.65, 0.43],\n",
              "       [0.85, 0.64],\n",
              "       [0.93, 0.44],\n",
              "       [0.41, 0.93],\n",
              "       [0.36, 0.43],\n",
              "       [0.78, 0.85],\n",
              "       [0.69, 0.07],\n",
              "       [0.04, 0.52],\n",
              "       [0.17, 0.15],\n",
              "       [0.68, 0.13],\n",
              "       [0.84, 0.6 ],\n",
              "       [0.38, 0.4 ],\n",
              "       [0.12, 0.65],\n",
              "       [0.62, 0.17],\n",
              "       [0.79, 0.97],\n",
              "       [0.82, 0.04],\n",
              "       [0.91, 0.53],\n",
              "       [0.35, 0.85],\n",
              "       [0.57, 0.69],\n",
              "       [0.52, 0.22],\n",
              "       [0.31, 0.15],\n",
              "       [0.6 , 0.02],\n",
              "       [0.99, 0.91],\n",
              "       [0.48, 0.76],\n",
              "       [0.3 , 0.19],\n",
              "       [0.58, 0.62],\n",
              "       [0.65, 0.17],\n",
              "       [0.6 , 0.69],\n",
              "       [0.95, 0.76],\n",
              "       [0.47, 0.23],\n",
              "       [0.15, 0.96],\n",
              "       [0.01, 0.03],\n",
              "       [0.26, 0.23],\n",
              "       [0.01, 0.11],\n",
              "       [0.45, 0.87],\n",
              "       [0.09, 0.97],\n",
              "       [0.96, 0.25],\n",
              "       [0.63, 0.58],\n",
              "       [0.06, 0.42],\n",
              "       [0.1 , 0.24],\n",
              "       [0.26, 0.62],\n",
              "       [0.41, 0.15],\n",
              "       [0.91, 0.95],\n",
              "       [0.83, 0.64],\n",
              "       [0.44, 0.64],\n",
              "       [0.2 , 0.4 ],\n",
              "       [0.43, 0.12],\n",
              "       [0.21, 0.22],\n",
              "       [0.88, 0.4 ],\n",
              "       [0.31, 0.87],\n",
              "       [0.99, 0.99],\n",
              "       [0.23, 0.26],\n",
              "       [0.79, 0.12],\n",
              "       [0.02, 0.28],\n",
              "       [0.89, 0.48],\n",
              "       [0.02, 0.56],\n",
              "       [0.92, 0.03],\n",
              "       [0.72, 0.34],\n",
              "       [0.3 , 0.99],\n",
              "       [0.86, 0.66],\n",
              "       [0.47, 0.65],\n",
              "       [0.79, 0.94],\n",
              "       [0.82, 0.96],\n",
              "       [0.9 , 0.42],\n",
              "       [0.19, 0.62],\n",
              "       [0.7 , 0.57],\n",
              "       [0.7 , 0.61],\n",
              "       [0.69, 0.  ],\n",
              "       [0.98, 0.3 ],\n",
              "       [0.3 , 0.08],\n",
              "       [0.85, 0.49],\n",
              "       [0.73, 0.01],\n",
              "       [1.  , 0.23],\n",
              "       [0.42, 0.94],\n",
              "       [0.49, 0.98],\n",
              "       [0.89, 0.68],\n",
              "       [0.22, 0.46],\n",
              "       [0.34, 0.5 ],\n",
              "       [0.99, 0.13],\n",
              "       [0.28, 0.46],\n",
              "       [0.87, 0.36],\n",
              "       [0.23, 0.87],\n",
              "       [0.77, 0.36]])"
            ]
          },
          "execution_count": 22,
          "metadata": {},
          "output_type": "execute_result"
        }
      ],
      "source": [
        "x"
      ]
    },
    {
      "cell_type": "code",
      "execution_count": 23,
      "metadata": {
        "colab": {
          "base_uri": "https://localhost:8080/"
        },
        "id": "G_5i368Jdp8b",
        "outputId": "d12df977-0f25-472c-aae0-b6fd50bcb8f8"
      },
      "outputs": [
        {
          "data": {
            "text/plain": [
              "99"
            ]
          },
          "execution_count": 23,
          "metadata": {},
          "output_type": "execute_result"
        }
      ],
      "source": [
        "len(x)"
      ]
    },
    {
      "cell_type": "code",
      "execution_count": 25,
      "metadata": {
        "colab": {
          "base_uri": "https://localhost:8080/"
        },
        "id": "Wt8C3YmCTCXy",
        "outputId": "d52decf6-5741-4f6a-e9c2-f3f3e6741d17"
      },
      "outputs": [
        {
          "data": {
            "text/plain": [
              "(99,)"
            ]
          },
          "execution_count": 25,
          "metadata": {},
          "output_type": "execute_result"
        }
      ],
      "source": [
        "y.shape"
      ]
    },
    {
      "cell_type": "code",
      "execution_count": 13,
      "metadata": {
        "colab": {
          "base_uri": "https://localhost:8080/"
        },
        "id": "UT0b7dUWTMVg",
        "outputId": "1d006ee1-0c8b-48f7-e2c3-a41f2098e5ec"
      },
      "outputs": [
        {
          "data": {
            "text/plain": [
              "array([ 717.1 ,  607.91,  270.4 ,  289.88,  830.85, 1038.09,  455.19,\n",
              "        640.17,  511.06,  177.03, 1242.52,  891.37, 1339.72,  169.88,\n",
              "        276.05,  517.43,  522.25,  932.21,  851.25,  640.11,  308.68,\n",
              "       1046.05,  332.4 ,  171.85,  109.55,  361.97,  872.21,  303.7 ,\n",
              "        256.38,  341.2 , 1194.63,  408.6 ,  895.54,  518.25,  638.75,\n",
              "        301.9 ,  163.38,  240.77, 1449.05,  609.  ,  174.59,  593.45,\n",
              "        355.96,  671.46, 1193.7 ,  278.88,  411.4 ,   42.08,  166.19,\n",
              "         58.62,  642.45,  368.14,  702.78,  615.74,  143.79,  109.  ,\n",
              "        328.28,  205.16, 1360.49,  905.83,  487.33,  202.76,  202.01,\n",
              "        148.87,  745.3 ,  503.04, 1563.82,  165.21,  438.4 ,   98.47,\n",
              "        819.63,  174.44,  483.13,  534.24,  572.31,  957.61,  518.29,\n",
              "       1143.49, 1211.31,  784.74,  283.7 ,  684.38,  719.46,  292.23,\n",
              "        775.68,  130.77,  801.6 ,  323.55,  726.9 ,  661.12,  771.11,\n",
              "       1016.14,  237.69,  325.89,  636.22,  272.12,  696.65,  434.53,\n",
              "        593.86])"
            ]
          },
          "execution_count": 13,
          "metadata": {},
          "output_type": "execute_result"
        }
      ],
      "source": [
        "y"
      ]
    },
    {
      "cell_type": "code",
      "execution_count": 36,
      "metadata": {
        "id": "Vf5gW9dqTO3G"
      },
      "outputs": [],
      "source": [
        "#splitting the data\n",
        "from sklearn.model_selection import train_test_split\n",
        "x_train, x_test ,y_train, y_test = train_test_split(x,y,test_size=0.25,random_state = 42)"
      ]
    },
    {
      "cell_type": "code",
      "execution_count": 37,
      "metadata": {
        "id": "mb4K7TrVTjVn"
      },
      "outputs": [],
      "source": [
        "from sklearn.linear_model import LinearRegression\n",
        "from sklearn.preprocessing import PolynomialFeatures"
      ]
    },
    {
      "cell_type": "code",
      "execution_count": 38,
      "metadata": {
        "id": "JyqXhHKwTzgw"
      },
      "outputs": [],
      "source": [
        "pol_reg=PolynomialFeatures(degree=4)\n",
        "x_train=pol_reg.fit_transform(x_train)\n",
        "x_test=pol_reg.fit_transform(x_test)"
      ]
    },
    {
      "cell_type": "code",
      "execution_count": 39,
      "metadata": {
        "colab": {
          "base_uri": "https://localhost:8080/"
        },
        "id": "ll7OlNXPUPf2",
        "outputId": "f6e6d6fe-00ce-415b-b0db-38218fbb811f"
      },
      "outputs": [
        {
          "data": {
            "text/plain": [
              "LinearRegression()"
            ]
          },
          "execution_count": 39,
          "metadata": {},
          "output_type": "execute_result"
        }
      ],
      "source": [
        "model=LinearRegression()\n",
        "model.fit(x_train,y_train)"
      ]
    },
    {
      "cell_type": "code",
      "execution_count": 46,
      "metadata": {
        "colab": {
          "base_uri": "https://localhost:8080/"
        },
        "id": "PGJ6lBzVUVWu",
        "outputId": "49122b8e-f900-48ca-c550-97c50be5b0d1"
      },
      "outputs": [
        {
          "name": "stdout",
          "output_type": "stream",
          "text": [
            "202.89  =  202.01\n",
            "171.21  =  174.59\n",
            "271.06  =  272.12\n",
            "840.77  =  851.25\n",
            "431.26  =  434.53\n",
            "771.67  =  775.68\n",
            "744.43  =  745.3\n",
            "361.28  =  355.96\n",
            "1244.81  =  1242.52\n",
            "720.01  =  717.1\n",
            "407.83  =  408.6\n",
            "513.17  =  518.29\n",
            "43.71  =  42.08\n",
            "877.0  =  872.21\n",
            "1200.16  =  1193.7\n",
            "830.04  =  830.85\n",
            "329.93  =  332.4\n",
            "1331.19  =  1339.72\n",
            "731.5  =  726.9\n",
            "531.08  =  534.24\n",
            "57.83  =  58.62\n",
            "828.37  =  819.63\n",
            "437.37  =  438.4\n",
            "519.54  =  517.43\n",
            "595.51  =  609.0\n"
          ]
        }
      ],
      "source": [
        "y_preds=model.predict(x_test)\n",
        "y_pred=y_preds.tolist()\n",
        "y_test1=y_test.tolist()\n",
        "\n",
        "for i in range(len(y_pred)):\n",
        "  print(round(y_pred[i],2),\" = \",y_test1[i])"
      ]
    },
    {
      "cell_type": "code",
      "execution_count": 47,
      "metadata": {
        "colab": {
          "base_uri": "https://localhost:8080/",
          "height": 283
        },
        "id": "dZKQvpAwXuan",
        "outputId": "87d398f2-f77f-4b60-ee9d-c705710686bb"
      },
      "outputs": [
        {
          "data": {
            "text/plain": [
              "[<matplotlib.lines.Line2D at 0x7f2a467a2a30>]"
            ]
          },
          "execution_count": 47,
          "metadata": {},
          "output_type": "execute_result"
        },
        {
          "data": {
            "image/png": "[encoded data removed]",
            "text/plain": [
              "<Figure size 432x288 with 1 Axes>"
            ]
          },
          "metadata": {
            "needs_background": "light"
          },
          "output_type": "display_data"
        }
      ],
      "source": [
        "plt.plot(y_preds)"
      ]
    },
    {
      "cell_type": "code",
      "execution_count": 48,
      "metadata": {
        "colab": {
          "base_uri": "https://localhost:8080/",
          "height": 287
        },
        "id": "PTV-X4JkX6ky",
        "outputId": "344168ef-41c0-47f4-8ee4-750c851d65b6"
      },
      "outputs": [
        {
          "data": {
            "text/plain": [
              "[<matplotlib.lines.Line2D at 0x7f2a46778ee0>]"
            ]
          },
          "execution_count": 48,
          "metadata": {},
          "output_type": "execute_result"
        },
        {
          "data": {
            "image/png": "[encoded data removed]",
            "text/plain": [
              "<Figure size 432x288 with 1 Axes>"
            ]
          },
          "metadata": {
            "needs_background": "light"
          },
          "output_type": "display_data"
        }
      ],
      "source": [
        "plt.plot(y_test)"
      ]
    },
    {
      "cell_type": "code",
      "execution_count": 49,
      "metadata": {
        "colab": {
          "base_uri": "https://localhost:8080/"
        },
        "id": "Rwkq4I5tYMZh",
        "outputId": "a9b997e4-aee7-4b0b-d8a3-bf6a280de6e9"
      },
      "outputs": [
        {
          "data": {
            "text/plain": [
              "array([   0.        ,  145.91890015,  143.78502276,  242.7137763 ,\n",
              "        483.76408501,  219.76693948,  106.29864174,  173.34027215,\n",
              "         29.17558386, -192.72313563,    5.80904575,  -25.21084486,\n",
              "         55.01048332,   62.17651736,  105.14874618])"
            ]
          },
          "execution_count": 49,
          "metadata": {},
          "output_type": "execute_result"
        }
      ],
      "source": [
        "model.coef_"
      ]
    },
    {
      "cell_type": "code",
      "execution_count": 50,
      "metadata": {
        "colab": {
          "base_uri": "https://localhost:8080/",
          "height": 287
        },
        "id": "WR5L5wlObtnv",
        "outputId": "da534ff1-927e-4d0e-f22e-d43a59cc6c1b"
      },
      "outputs": [
        {
          "data": {
            "text/plain": [
              "<matplotlib.collections.PathCollection at 0x7f2a466d18e0>"
            ]
          },
          "execution_count": 50,
          "metadata": {},
          "output_type": "execute_result"
        },
        {
          "data": {
            "image/png": "[encoded data removed]",
            "text/plain": [
              "<Figure size 432x288 with 1 Axes>"
            ]
          },
          "metadata": {
            "needs_background": "light"
          },
          "output_type": "display_data"
        }
      ],
      "source": [
        "plt.scatter(y_pred,y_test)"
      ]
    },
    {
      "cell_type": "code",
      "execution_count": 50,
      "metadata": {
        "id": "Xc8EvFyYec8g"
      },
      "outputs": [],
      "source": []
    }
  ],
  "metadata": {
    "colab": {
      "provenance": []
    },
    "kernelspec": {
      "display_name": "Python 3",
      "name": "python3"
    },
    "language_info": {
      "name": "python"
    }
  },
  "nbformat": 4,
  "nbformat_minor": 0
}
